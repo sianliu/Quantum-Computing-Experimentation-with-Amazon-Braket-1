{
 "cells": [
  {
   "attachments": {},
   "cell_type": "markdown",
   "id": "3419b875",
   "metadata": {},
   "source": [
    "# Quantum Computing Experimentation with Amazon Braket\n",
    "### Chapter 5 - Using Quantum Annealer - Developing a QUBO function and using Constraints  \n",
    "### Party Optimization example\n",
    "© 2021, 2022, 2023 Packt Publishing\n",
    "\n",
    "Written by Alex Khan\n"
   ]
  },
  {
   "cell_type": "code",
   "execution_count": 8,
   "id": "7fee0881",
   "metadata": {},
   "outputs": [],
   "source": [
    "#run first time\n",
    "#!pip install pandas"
   ]
  },
  {
   "cell_type": "code",
   "execution_count": 9,
   "id": "e2daeadf",
   "metadata": {},
   "outputs": [],
   "source": [
    "# Set the S3 bucket and folder name\n",
    "my_bucket = \"amazon-braket-pqcee\" \n",
    "my_prefix = \"dwave\" \n",
    "s3_folder = (my_bucket, my_prefix)"
   ]
  },
  {
   "cell_type": "code",
   "execution_count": 19,
   "id": "a8cb8a15",
   "metadata": {},
   "outputs": [
    {
     "name": "stdout",
     "output_type": "stream",
     "text": [
      "[[0.5 nan nan nan nan nan]\n",
      " [1.0 0.0 nan nan nan nan]\n",
      " [0.5 0.25 -0.25 nan nan nan]\n",
      " [-0.5 -1.0 0.0 -0.5 nan nan]\n",
      " [-1.0 -1.0 0.25 0.5 -1.0 nan]\n",
      " [0.25 -0.25 0.0 0.5 -0.5 -0.5]]\n"
     ]
    }
   ],
   "source": [
    "import pandas as pd\n",
    "import dimod\n",
    "from braket.ocean_plugin import BraketSampler, BraketDWaveSampler\n",
    "from dwave.system.composites import EmbeddingComposite\n",
    "from braket.aws import AwsDevice\n",
    "\n",
    "file_name='friends.csv'\n",
    "\n",
    "# Read the values into a matrix T\n",
    "Temp = pd.read_csv(file_name, ).values\n",
    "T=Temp[:,1:]\n",
    "print(T)"
   ]
  },
  {
   "cell_type": "code",
   "execution_count": 2,
   "id": "158f51d9",
   "metadata": {},
   "outputs": [
    {
     "name": "stdout",
     "output_type": "stream",
     "text": [
      "['Alice', 'Bob', 'Charlie', 'David', 'Eve', 'Frank']\n"
     ]
    }
   ],
   "source": [
    "dim=len(T[0])\n",
    "Names=['']*dim\n",
    "\n",
    "for i in range(dim):\n",
    "    Names[i]=Temp[i,0]\n",
    "print(Names)"
   ]
  },
  {
   "cell_type": "code",
   "execution_count": 3,
   "id": "9305b60d",
   "metadata": {},
   "outputs": [
    {
     "name": "stdout",
     "output_type": "stream",
     "text": [
      "{'Alice': -0.5, 'Bob': -0.0, 'Charlie': 0.25, 'David': 0.5, 'Eve': 1.0, 'Frank': 0.5}\n"
     ]
    }
   ],
   "source": [
    "# Notice we change the sign on T\n",
    "linear={Names[i]:-T[i][i] for i in range(dim)}\n",
    "quadrati={(Names[i],Names[j]):-T[i][j] for i in range(dim) for j in range(dim) if i>j}\n",
    "\n",
    "print(linear)"
   ]
  },
  {
   "cell_type": "code",
   "execution_count": 25,
   "id": "53d7c28c",
   "metadata": {},
   "outputs": [
    {
     "name": "stdout",
     "output_type": "stream",
     "text": [
      "{('Bob', 'Alice'): -1.0, ('Charlie', 'Alice'): -0.5, ('Charlie', 'Bob'): -0.25, ('David', 'Alice'): 0.5, ('David', 'Bob'): 1.0, ('David', 'Charlie'): -0.0, ('Eve', 'Alice'): 1.0, ('Eve', 'Bob'): 1.0, ('Eve', 'Charlie'): -0.25, ('Eve', 'David'): -0.5, ('Frank', 'Alice'): -0.25, ('Frank', 'Bob'): 0.25, ('Frank', 'Charlie'): -0.0, ('Frank', 'David'): -0.5, ('Frank', 'Eve'): 0.5}\n"
     ]
    }
   ],
   "source": [
    "print(quadratic)"
   ]
  },
  {
   "cell_type": "code",
   "execution_count": 26,
   "id": "17595e0a",
   "metadata": {},
   "outputs": [],
   "source": [
    "def estimate_cost(device,num_shots=1000):\n",
    "    #device=set_device(Name)\n",
    "    cost_per_task=0.30\n",
    "    Name=device.name\n",
    "    if Name in ['SV1','TN1','dm1']:\n",
    "        price_per_min=device.properties.service.deviceCost.price\n",
    "        unit=device.properties.service.deviceCost.unit\n",
    "        print('simulator cost per ',unit,': $', price_per_min)\n",
    "        print('total cost cannot be estimated')\n",
    "    elif Name in['Aspen-M-3', 'Aquila', 'Lucy']:\n",
    "        price_per_shot=device.properties.service.deviceCost.price\n",
    "        unit=device.properties.service.deviceCost.unit\n",
    "        print('device cost per ',unit,': $', price_per_shot)\n",
    "        print('total cost for {} shots is ${:.2f}'.format(num_shots,cost_per_task+num_shots*price_per_shot))\n",
    "    else:\n",
    "        print('device not found')\n",
    "        print('use name from list', available_devices())"
   ]
  },
  {
   "cell_type": "code",
   "execution_count": 16,
   "id": "d49346aa",
   "metadata": {},
   "outputs": [],
   "source": [
    "def estimate_cost_measured_qubits(device,measured_qubits):\n",
    "    device=set_device(Name)\n",
    "    min_shots_per_variable=25\n",
    "    max_shots=device.properties.service.shotsRange[1]\n",
    "    print('max shots:', max_shots)\n",
    "    num_shots=min_shots_per_variable*2**measured_qubits\n",
    "    if num_shots>max_shots:\n",
    "        num_shots=max_shots\n",
    "        print('for {} measured qubits the maximum allowed shots: {:,}'.format(measured_qubits,num_shots))\n",
    "    else:\n",
    "        print('for {} measured qubits the number of shots recommended: {:,}'.format(measured_qubits,num_shots))\n",
    "    estimate_cost(device,num_shots)"
   ]
  },
  {
   "cell_type": "code",
   "execution_count": 21,
   "id": "d8d849a4",
   "metadata": {},
   "outputs": [],
   "source": [
    "def set_device(Name):\n",
    "    device_list=AwsDevice.get_devices(names=Name)\n",
    "    if len(device_list)==1:\n",
    "        device=device_list[0]\n",
    "        print(device)\n",
    "        return(device)\n",
    "    else:\n",
    "        print('No device found')\n",
    "        print('use name from list', available_devices()) "
   ]
  },
  {
   "cell_type": "code",
   "execution_count": 22,
   "id": "73f5cb0c",
   "metadata": {},
   "outputs": [],
   "source": [
    "def available_devices():\n",
    "    from braket.aws import AwsDevice\n",
    "    device_list=AwsDevice.get_devices(statuses=['ONLINE'])\n",
    "    device_name_list=[]\n",
    "    for device in device_list:\n",
    "        device_name_list.append(device.name)\n",
    "    #print('Valid device names: ',device_name_list)\n",
    "    return(device_name_list)"
   ]
  },
  {
   "cell_type": "code",
   "execution_count": 40,
   "id": "2a97dc37",
   "metadata": {},
   "outputs": [
    {
     "name": "stdout",
     "output_type": "stream",
     "text": [
      "Device('name': SV1, 'arn': arn:aws:braket:::device/quantum-simulator/amazon/sv1)\n",
      "max shots: 100000\n",
      "for 5 measured qubits the number of shots recommended: 800\n",
      "simulator cost per  minute : $ 0.075\n",
      "total cost cannot be estimated\n"
     ]
    }
   ],
   "source": [
    "device=set_device('SV1')\n",
    "estimate_cost_measured_qubits(device, 5)"
   ]
  },
  {
   "cell_type": "code",
   "execution_count": 43,
   "id": "d1ac96a0",
   "metadata": {},
   "outputs": [
    {
     "ename": "BinaryQuadraticModelStructureError",
     "evalue": "Problem graph incompatible with solver.",
     "output_type": "error",
     "traceback": [
      "\u001b[0;31m---------------------------------------------------------------------------\u001b[0m",
      "\u001b[0;31mBinaryQuadraticModelStructureError\u001b[0m        Traceback (most recent call last)",
      "Cell \u001b[0;32mIn[43], line 11\u001b[0m\n\u001b[1;32m      8\u001b[0m sampler \u001b[39m=\u001b[39m BraketDWaveSampler(s3_folder)\n\u001b[1;32m      9\u001b[0m \u001b[39m# sampler = EmbeddingComposite(sampler) \u001b[39;00m\n\u001b[0;32m---> 11\u001b[0m response \u001b[39m=\u001b[39m sampler\u001b[39m.\u001b[39;49msample(bqm)\n\u001b[1;32m     12\u001b[0m \u001b[39mprint\u001b[39m(response)\n",
      "File \u001b[0;32m~/.local/lib/python3.10/site-packages/dimod/core/sampler.py:229\u001b[0m, in \u001b[0;36mSampler.sample\u001b[0;34m(self, bqm, **parameters)\u001b[0m\n\u001b[1;32m    226\u001b[0m \u001b[39mif\u001b[39;00m \u001b[39mnot\u001b[39;00m \u001b[39mgetattr\u001b[39m(\u001b[39mself\u001b[39m\u001b[39m.\u001b[39msample_qubo, \u001b[39m'\u001b[39m\u001b[39m__issamplemixin__\u001b[39m\u001b[39m'\u001b[39m, \u001b[39mFalse\u001b[39;00m):\n\u001b[1;32m    227\u001b[0m     \u001b[39m# sample_qubo is implemented\u001b[39;00m\n\u001b[1;32m    228\u001b[0m     Q, offset \u001b[39m=\u001b[39m bqm\u001b[39m.\u001b[39mto_qubo()\n\u001b[0;32m--> 229\u001b[0m     sampleset \u001b[39m=\u001b[39m \u001b[39mself\u001b[39;49m\u001b[39m.\u001b[39;49msample_qubo(Q, \u001b[39m*\u001b[39;49m\u001b[39m*\u001b[39;49mparameters)\n\u001b[1;32m    230\u001b[0m \u001b[39melse\u001b[39;00m:\n\u001b[1;32m    231\u001b[0m     h, J, offset \u001b[39m=\u001b[39m bqm\u001b[39m.\u001b[39mto_ising()\n",
      "File \u001b[0;32m~/.local/lib/python3.10/site-packages/braket/ocean_plugin/braket_dwave_sampler.py:206\u001b[0m, in \u001b[0;36mBraketDWaveSampler.sample_qubo\u001b[0;34m(self, Q, **kwargs)\u001b[0m\n\u001b[1;32m    180\u001b[0m \u001b[39mdef\u001b[39;00m \u001b[39msample_qubo\u001b[39m(\u001b[39mself\u001b[39m, Q: Dict[Tuple[\u001b[39mint\u001b[39m, \u001b[39mint\u001b[39m], \u001b[39mint\u001b[39m], \u001b[39m*\u001b[39m\u001b[39m*\u001b[39mkwargs) \u001b[39m-\u001b[39m\u001b[39m>\u001b[39m SampleSet:\n\u001b[1;32m    181\u001b[0m \u001b[39m    \u001b[39m\u001b[39m\"\"\"\u001b[39;00m\n\u001b[1;32m    182\u001b[0m \u001b[39m    Sample from the specified QUBO.\u001b[39;00m\n\u001b[1;32m    183\u001b[0m \n\u001b[0;32m   (...)\u001b[0m\n\u001b[1;32m    204\u001b[0m \u001b[39m        {0: 1, 4: 0}\u001b[39;00m\n\u001b[1;32m    205\u001b[0m \u001b[39m    \"\"\"\u001b[39;00m\n\u001b[0;32m--> 206\u001b[0m     \u001b[39mreturn\u001b[39;00m \u001b[39msuper\u001b[39;49m()\u001b[39m.\u001b[39;49msample_qubo(Q, \u001b[39m*\u001b[39;49m\u001b[39m*\u001b[39;49mkwargs)\n",
      "File \u001b[0;32m~/.local/lib/python3.10/site-packages/braket/ocean_plugin/braket_sampler.py:262\u001b[0m, in \u001b[0;36mBraketSampler.sample_qubo\u001b[0;34m(self, Q, **kwargs)\u001b[0m\n\u001b[1;32m    232\u001b[0m \u001b[39mdef\u001b[39;00m \u001b[39msample_qubo\u001b[39m(\u001b[39mself\u001b[39m, Q: Dict[Tuple[\u001b[39mint\u001b[39m, \u001b[39mint\u001b[39m], \u001b[39mint\u001b[39m], \u001b[39m*\u001b[39m\u001b[39m*\u001b[39mkwargs) \u001b[39m-\u001b[39m\u001b[39m>\u001b[39m SampleSet:\n\u001b[1;32m    233\u001b[0m \u001b[39m    \u001b[39m\u001b[39m\"\"\"\u001b[39;00m\n\u001b[1;32m    234\u001b[0m \u001b[39m    Sample from the specified QUBO.\u001b[39;00m\n\u001b[1;32m    235\u001b[0m \n\u001b[0;32m   (...)\u001b[0m\n\u001b[1;32m    260\u001b[0m \u001b[39m        {0: 1, 4: 0}\u001b[39;00m\n\u001b[1;32m    261\u001b[0m \u001b[39m    \"\"\"\u001b[39;00m\n\u001b[0;32m--> 262\u001b[0m     aws_task \u001b[39m=\u001b[39m \u001b[39mself\u001b[39;49m\u001b[39m.\u001b[39;49msample_qubo_quantum_task(Q, \u001b[39m*\u001b[39;49m\u001b[39m*\u001b[39;49mkwargs)\n\u001b[1;32m    263\u001b[0m     variables \u001b[39m=\u001b[39m \u001b[39mset\u001b[39m()\u001b[39m.\u001b[39munion(\u001b[39m*\u001b[39mQ)\n\u001b[1;32m    264\u001b[0m     \u001b[39mreturn\u001b[39;00m BraketSampler\u001b[39m.\u001b[39mget_task_sample_set(aws_task, variables)\n",
      "File \u001b[0;32m~/.local/lib/python3.10/site-packages/braket/ocean_plugin/braket_dwave_sampler.py:236\u001b[0m, in \u001b[0;36mBraketDWaveSampler.sample_qubo_quantum_task\u001b[0;34m(self, Q, **kwargs)\u001b[0m\n\u001b[1;32m    208\u001b[0m \u001b[39mdef\u001b[39;00m \u001b[39msample_qubo_quantum_task\u001b[39m(\u001b[39mself\u001b[39m, Q: Dict[Tuple[\u001b[39mint\u001b[39m, \u001b[39mint\u001b[39m], \u001b[39mint\u001b[39m], \u001b[39m*\u001b[39m\u001b[39m*\u001b[39mkwargs) \u001b[39m-\u001b[39m\u001b[39m>\u001b[39m QuantumTask:\n\u001b[1;32m    209\u001b[0m \u001b[39m    \u001b[39m\u001b[39m\"\"\"\u001b[39;00m\n\u001b[1;32m    210\u001b[0m \u001b[39m    Sample from the specified QUBO and return a `QuantumTask`. This has the same inputs\u001b[39;00m\n\u001b[1;32m    211\u001b[0m \u001b[39m    as `BraketDWaveSampler.sample_qubo`.\u001b[39;00m\n\u001b[0;32m   (...)\u001b[0m\n\u001b[1;32m    234\u001b[0m \u001b[39m        {0: 1, 4: 0}\u001b[39;00m\n\u001b[1;32m    235\u001b[0m \u001b[39m    \"\"\"\u001b[39;00m\n\u001b[0;32m--> 236\u001b[0m     \u001b[39mreturn\u001b[39;00m \u001b[39msuper\u001b[39;49m()\u001b[39m.\u001b[39;49msample_qubo_quantum_task(Q, \u001b[39m*\u001b[39;49m\u001b[39m*\u001b[39;49mkwargs)\n",
      "File \u001b[0;32m~/.local/lib/python3.10/site-packages/braket/ocean_plugin/braket_sampler.py:304\u001b[0m, in \u001b[0;36mBraketSampler.sample_qubo_quantum_task\u001b[0;34m(self, Q, **kwargs)\u001b[0m\n\u001b[1;32m    298\u001b[0m solver_kwargs \u001b[39m=\u001b[39m \u001b[39mself\u001b[39m\u001b[39m.\u001b[39m_process_solver_kwargs(\u001b[39m*\u001b[39m\u001b[39m*\u001b[39mkwargs)\n\u001b[1;32m    300\u001b[0m \u001b[39mif\u001b[39;00m \u001b[39mnot\u001b[39;00m \u001b[39mall\u001b[39m(\n\u001b[1;32m    301\u001b[0m     u \u001b[39min\u001b[39;00m \u001b[39mself\u001b[39m\u001b[39m.\u001b[39mnodelist \u001b[39mif\u001b[39;00m u \u001b[39m==\u001b[39m v \u001b[39melse\u001b[39;00m ((u, v) \u001b[39min\u001b[39;00m \u001b[39mself\u001b[39m\u001b[39m.\u001b[39medgelist \u001b[39mor\u001b[39;00m (v, u) \u001b[39min\u001b[39;00m \u001b[39mself\u001b[39m\u001b[39m.\u001b[39medgelist)\n\u001b[1;32m    302\u001b[0m     \u001b[39mfor\u001b[39;00m u, v \u001b[39min\u001b[39;00m Q\n\u001b[1;32m    303\u001b[0m ):\n\u001b[0;32m--> 304\u001b[0m     \u001b[39mraise\u001b[39;00m BinaryQuadraticModelStructureError(\u001b[39m\"\u001b[39m\u001b[39mProblem graph incompatible with solver.\u001b[39m\u001b[39m\"\u001b[39m)\n\u001b[1;32m    306\u001b[0m linear \u001b[39m=\u001b[39m {}\n\u001b[1;32m    307\u001b[0m quadratic \u001b[39m=\u001b[39m {}\n",
      "\u001b[0;31mBinaryQuadraticModelStructureError\u001b[0m: Problem graph incompatible with solver."
     ]
    }
   ],
   "source": [
    "vartype = dimod.BINARY\n",
    "bqm = dimod.BinaryQuadraticModel(linear, quadratic, vartype)\n",
    "\n",
    "# Using ExactSolver()\n",
    "# sampler = dimod.ExactSolver()\n",
    "\n",
    "# Using Rigetti Annealer \n",
    "sampler = BraketDWaveSampler(s3_folder)\n",
    "# sampler = EmbeddingComposite(sampler) \n",
    "\n",
    "response = sampler.sample(bqm)\n",
    "print(response)"
   ]
  }
 ],
 "metadata": {
  "kernelspec": {
   "display_name": "Python 3 (ipykernel)",
   "language": "python",
   "name": "python3"
  },
  "language_info": {
   "codemirror_mode": {
    "name": "ipython",
    "version": 3
   },
   "file_extension": ".py",
   "mimetype": "text/x-python",
   "name": "python",
   "nbconvert_exporter": "python",
   "pygments_lexer": "ipython3",
   "version": "3.10.6"
  }
 },
 "nbformat": 4,
 "nbformat_minor": 5
}
